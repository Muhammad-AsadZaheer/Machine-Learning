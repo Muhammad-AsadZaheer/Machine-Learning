{
  "nbformat": 4,
  "nbformat_minor": 0,
  "metadata": {
    "colab": {
      "name": "CNN_training_80%_ testing_20%_split",
      "provenance": [],
      "collapsed_sections": []
    },
    "kernelspec": {
      "name": "python3",
      "display_name": "Python 3"
    },
    "accelerator": "GPU"
  },
  "cells": [
    {
      "cell_type": "code",
      "metadata": {
        "id": "HxCu7AEC8qnU",
        "outputId": "504352dd-3789-4096-828f-d58faa944895",
        "colab": {
          "base_uri": "https://localhost:8080/",
          "height": 34
        }
      },
      "source": [
        "#Cell Number 1\n",
        "\n",
        "#Mount google drive to access dataset from google drive\n",
        " \n",
        "from google.colab import drive\n",
        "drive.mount('/content/drive')"
      ],
      "execution_count": null,
      "outputs": [
        {
          "output_type": "stream",
          "text": [
            "Mounted at /content/drive\n"
          ],
          "name": "stdout"
        }
      ]
    },
    {
      "cell_type": "code",
      "metadata": {
        "id": "d2l9p0w88xNR"
      },
      "source": [
        "#Cell Number 2\n",
        "\n",
        "#Import Libraries\n",
        " \n",
        "import numpy as np\n",
        "import tensorflow as tf\n",
        "import pandas as pd\n",
        "import matplotlib.pyplot as plt\n",
        "import keras\n",
        "from keras.layers import Dense, Dropout, Input\n",
        "from keras.models import Model,Sequential\n",
        "from tqdm import tqdm\n",
        "import scipy.io\n",
        "from keras.layers import *\n",
        "from keras.layers.advanced_activations import LeakyReLU\n",
        "from keras.layers.convolutional import *\n",
        "from keras.models import *\n",
        "from keras.optimizers import *\n",
        "import sys\n",
        "import os\n",
        "from PIL import Image\n",
        "from keras.models import Sequential\n",
        "from keras.layers import Dense, Conv2D, Dropout, Flatten, MaxPooling2D\n",
        "from sklearn.model_selection import train_test_split\n",
        "from keras.layers import Dense, Input, merge, concatenate\n",
        "from keras.preprocessing.image import  img_to_array, array_to_img, load_img\n",
        "from keras_preprocessing.image import ImageDataGenerator\n",
        "from keras.utils import plot_model\n",
        "from keras.callbacks import ModelCheckpoint\n",
        "from sklearn.metrics import confusion_matrix\n",
        "from keras.optimizers import Adam\n",
        "\n"
      ],
      "execution_count": null,
      "outputs": []
    },
    {
      "cell_type": "code",
      "metadata": {
        "id": "x6VIIvccKip_"
      },
      "source": [
        "#model\n",
        "#def trainModel(x_train, y_train, x_test, y_test, modelName, isTraining = False, weights_path = None):\n",
        "def trainModel(x_train, y_train,modelName, isTraining = False, weights_path = None):\n",
        "  model = Sequential()\n",
        "  img_shape = (256, 256, 1)\n",
        "  model.add(Conv2D(32, kernel_size=3, strides=2, input_shape=img_shape, padding=\"same\"))\n",
        "  model.add(LeakyReLU(alpha=0.2))\n",
        "  model.add(Dropout(0.35))\n",
        "  model.add(Conv2D(64, kernel_size=3, strides=2, padding=\"same\"))\n",
        "  model.add(BatchNormalization(momentum=0.8))\n",
        "  model.add(LeakyReLU(alpha=0.2))\n",
        "  model.add(Dropout(0.35))\n",
        "  model.add(Conv2D(128, kernel_size=3, strides=2, padding=\"same\"))\n",
        "  model.add(BatchNormalization(momentum=0.8))\n",
        "  model.add(LeakyReLU(alpha=0.2))\n",
        "  model.add(Dropout(0.35))\n",
        "  model.add(Conv2D(256, kernel_size=3, strides=2, padding=\"same\"))\n",
        "  model.add(BatchNormalization(momentum=0.8))\n",
        "  model.add(LeakyReLU(alpha=0.2))\n",
        "  model.add(Dropout(0.35))\n",
        "\n",
        "  model.add(Conv2D(512, kernel_size=3, strides=2, padding=\"same\"))\n",
        "  model.add(BatchNormalization(momentum=0.8))\n",
        "  model.add(LeakyReLU(alpha=0.2))\n",
        "  model.add(Dropout(0.35))\n",
        "\n",
        "  model.add(Flatten())\n",
        "  model.add(Dense(1, activation='sigmoid'))\n",
        "  #model.summary()\n",
        "  model.compile(optimizer= Adam(lr=0.001/100), \n",
        "                  loss='binary_crossentropy', \n",
        "                  metrics=['accuracy'])\n",
        "  if not weights_path == None:\n",
        "    model.load_weights(weights_path)\n",
        "\n",
        "  if isTraining:\n",
        "    mcp_save = ModelCheckpoint(filepath= '/content/drive/My Drive/EEG_data_80%train_20%test_split/CNN-80-20/'+modelName+'.h5', save_best_only=True,save_weights_only=True)\n",
        "    #model.fit(x=x_train,y=y_train, epochs=5,validation_data=(x_test, y_test),batch_size=32)\n",
        "    history=model.fit(x=x_train,y=y_train, epochs=15,validation_split=0.05,batch_size=20,callbacks=[mcp_save])\n",
        "    model.save(modelName)\n",
        "  #model.fit(x=x_train,y=y_train, epochs=10,batch_size=32)\n",
        "  #model.fit_generator(datagen.flow(x_train, y_train, batch_size=32),\n",
        "  #                    steps_per_epoch=len(x_train) / 32, epochs=10)\n",
        "\n",
        "  # image_index = 4\n",
        "  # plt.imshow(y_test[image_index])\n",
        "  # plt.show()\n",
        "  # plt.imshow(y_train[image_index])\n",
        "  # plt.show()\n",
        "  # pred = model.predict(x_test[image_index])\n",
        "  # #plt.imshow(pred.reshape(256, 256))\n",
        "  # plt.show()\n",
        "  #    X_train=x\n",
        "\n",
        "  #np.save('test3.npy', X_train) \n",
        "  #np.save('100_output.npy', X_train)\n",
        "  return history, model\n",
        "\n"
      ],
      "execution_count": null,
      "outputs": []
    },
    {
      "cell_type": "code",
      "metadata": {
        "id": "HBvqpSl584eV"
      },
      "source": [
        "#Cell Number 3\n",
        "\n",
        "#Resnet_model\n",
        "#Execute this cell to load Resnet model\n",
        " \n",
        "#from keras.applications.resnet50 import ResNet50\n",
        "#from keras.layers import GlobalAveragePooling2D, Dense, Dropout, Flatten\n",
        "\n",
        "#base_model = ResNet50(input_shape =  ((256,256,1)), include_top = False, weights = None)\n"
      ],
      "execution_count": null,
      "outputs": []
    },
    {
      "cell_type": "code",
      "metadata": {
        "id": "XykEGvO48-W6"
      },
      "source": [
        "#Cell Number 4\n",
        "\n",
        "#Here few ending layers and previously loaded resnet model are joined\n",
        " \n",
        "#def trainModel(x_train, y_train,modelName, isTraining = False, weights_path = None):\n",
        "  #model = Sequential()\n",
        "  #model.add(base_model)\n",
        "  #model.add(GlobalAveragePooling2D())\n",
        "  #model.add(Dropout(0.25))\n",
        "  #model.add(Dense(1, activation='sigmoid'))\n",
        "  #model.summary()\n",
        "#model compilation\n",
        " \n",
        "  #model.compile(optimizer=Adam(lr=0.001/100), loss='binary_crossentropy', metrics=['accuracy'])\n",
        "  #model.compile(optimizer=SGD(lr=0.001/100), loss='binary_crossentropy', metrics=['accuracy'])\n",
        "  #if not weights_path == None:model.load_weights(weights_path)\n",
        " \n",
        "#input data is given and training the model and saving the best weights\n",
        " \n",
        "  #if isTraining:\n",
        "    #checkpoint = ModelCheckpoint('model-{epoch:03d}-{acc:03f}-{val_acc:03f}.h5', verbose=1, monitor='val_loss',save_best_only=True, mode='auto')  \n",
        "    #mcp_save = ModelCheckpoint(filepath= '/content/drive/My Drive/EEG_data_80%train_20%test_split/model_training_80%_testing_20%_10epoches_resnet/'+modelName+'.h5', save_best_only=True,save_weights_only=True)\n",
        "    #model.fit(x=x_train,y=y_train, epochs=5,validation_split=0.05,batch_size=20,callbacks=[mcp_save])\n",
        "    #y_pred=model.predict(x_test)\n",
        "    #pred = np.where(y_pred>0.5,1,0)\n",
        "    #cm1 = confusion_matrix(y_test,pred)\n",
        "    #total1=sum(sum(cm1)) \n",
        "    #print('Confusion Matrix : \\n', cm1)\n",
        "    #accuracy1=(cm1[0,0]+cm1[1,1])/total1\n",
        "    #print ('Accuracy : ', accuracy1)\n",
        "    #sensitivity1 = cm1[0,0]/(cm1[0,0]+cm1[0,1])\n",
        "    #print('Sensitivity : ', sensitivity1 )\n",
        "    #specificity1 = cm1[1,1]/(cm1[1,0]+cm1[1,1])\n",
        "  #print('Specificity : ', specificity1)\n",
        "\n",
        "  #return model\n"
      ],
      "execution_count": null,
      "outputs": []
    },
    {
      "cell_type": "code",
      "metadata": {
        "id": "xthIwy52XJl_",
        "outputId": "bb35b7c4-d54f-488c-8c0c-75634069748a",
        "colab": {
          "base_uri": "https://localhost:8080/",
          "height": 119
        }
      },
      "source": [
        "img_rows, img_cols= 256,256\n",
        "channels=1\n",
        "img_shape = (img_rows, img_cols, channels)\n",
        "Normal= np.load(\"/content/drive/My Drive/EEG_data_80%train_20%test_split/EEG_xmb.npy\")\n",
        "Seizure= np.load (\"/content/drive/My Drive/EEG_data_80%train_20%test_split/EEG_y.npy\")\n",
        "print(Normal.shape)\n",
        "print(Seizure.shape)\n",
        "x_train, x_test, y_train, y_test = train_test_split(Normal,Seizure, test_size=0.2, shuffle=True)\n",
        "print(x_train.shape)\n",
        "print(x_test.shape)\n",
        "print(y_train.shape)\n",
        "print(y_test.shape)\n",
        "x_train = np.asarray(x_train)\n",
        "y_train = np.asarray(y_train)\n",
        "x_test = np.asarray(x_test)\n",
        "y_test = np.asarray(y_test)"
      ],
      "execution_count": null,
      "outputs": [
        {
          "output_type": "stream",
          "text": [
            "(7307, 256, 256, 1)\n",
            "(7307,)\n",
            "(5845, 256, 256, 1)\n",
            "(1462, 256, 256, 1)\n",
            "(5845,)\n",
            "(1462,)\n"
          ],
          "name": "stdout"
        }
      ]
    },
    {
      "cell_type": "code",
      "metadata": {
        "id": "GpaBtssstJpo",
        "outputId": "692669a1-71ca-4a96-a76b-8d4b13379216",
        "colab": {
          "base_uri": "https://localhost:8080/",
          "height": 34
        }
      },
      "source": [
        "cd "
      ],
      "execution_count": null,
      "outputs": [
        {
          "output_type": "stream",
          "text": [
            "/root\n"
          ],
          "name": "stdout"
        }
      ]
    },
    {
      "cell_type": "code",
      "metadata": {
        "id": "q-J0GhYhXtoi",
        "outputId": "4c5e5bff-ec06-4ae9-f86b-81e137ab7a98",
        "colab": {
          "base_uri": "https://localhost:8080/",
          "height": 666
        }
      },
      "source": [
        "base_path = '/content/drive/My Drive/EEG_data_80%train_20%test_split'\n",
        "if not os.path.exists(os.path.join(base_path, 'CNN-80-20')):\n",
        "  os.mkdir(os.path.join(base_path, 'CNN-80-20'))\n",
        "#trainModel(x_train, y_train, np.load(os.path.join(base_path, 'x_files', i)), np.load(os.path.join(base_path, 'y_files', i.replace('x', 'y'))), os.path.join(base_path, 'model_10epoches_resnet',i[:-6]), True)\n",
        "history, model=trainModel(x_train, y_train,modelName='CNN_80-20-model3', isTraining=True)# os.path.join(base_path, 'model_training_80%_testing_20%_10epoches_resnet',i[:-6]), True))\n",
        "\n"
      ],
      "execution_count": null,
      "outputs": [
        {
          "output_type": "stream",
          "text": [
            "Epoch 1/15\n",
            "278/278 [==============================] - 9s 33ms/step - loss: 0.0756 - accuracy: 0.9793 - val_loss: 0.4622 - val_accuracy: 0.8294\n",
            "Epoch 2/15\n",
            "278/278 [==============================] - 9s 31ms/step - loss: 0.0059 - accuracy: 0.9998 - val_loss: 0.3036 - val_accuracy: 0.9625\n",
            "Epoch 3/15\n",
            "278/278 [==============================] - 9s 33ms/step - loss: 0.0036 - accuracy: 0.9995 - val_loss: 0.2250 - val_accuracy: 0.9727\n",
            "Epoch 4/15\n",
            "278/278 [==============================] - 9s 32ms/step - loss: 0.0018 - accuracy: 0.9998 - val_loss: 0.2611 - val_accuracy: 0.9659\n",
            "Epoch 5/15\n",
            "278/278 [==============================] - 9s 34ms/step - loss: 0.0012 - accuracy: 1.0000 - val_loss: 0.1953 - val_accuracy: 0.9727\n",
            "Epoch 6/15\n",
            "278/278 [==============================] - 9s 33ms/step - loss: 8.2459e-04 - accuracy: 1.0000 - val_loss: 0.1516 - val_accuracy: 0.9727\n",
            "Epoch 7/15\n",
            "278/278 [==============================] - 9s 33ms/step - loss: 7.1729e-04 - accuracy: 1.0000 - val_loss: 0.2668 - val_accuracy: 0.9693\n",
            "Epoch 8/15\n",
            "278/278 [==============================] - 9s 34ms/step - loss: 6.2977e-04 - accuracy: 1.0000 - val_loss: 0.1155 - val_accuracy: 0.9727\n",
            "Epoch 9/15\n",
            "278/278 [==============================] - 9s 33ms/step - loss: 3.4633e-04 - accuracy: 1.0000 - val_loss: 0.2161 - val_accuracy: 0.9727\n",
            "Epoch 10/15\n",
            "278/278 [==============================] - 9s 33ms/step - loss: 2.8926e-04 - accuracy: 1.0000 - val_loss: 0.2275 - val_accuracy: 0.9727\n",
            "Epoch 11/15\n",
            "278/278 [==============================] - 9s 33ms/step - loss: 3.0453e-04 - accuracy: 1.0000 - val_loss: 0.2882 - val_accuracy: 0.9659\n",
            "Epoch 12/15\n",
            "278/278 [==============================] - 9s 33ms/step - loss: 3.0581e-04 - accuracy: 1.0000 - val_loss: 0.1309 - val_accuracy: 0.9727\n",
            "Epoch 13/15\n",
            "278/278 [==============================] - 9s 32ms/step - loss: 2.0028e-04 - accuracy: 1.0000 - val_loss: 0.1503 - val_accuracy: 0.9727\n",
            "Epoch 14/15\n",
            "278/278 [==============================] - 9s 33ms/step - loss: 1.6282e-04 - accuracy: 1.0000 - val_loss: 0.1436 - val_accuracy: 0.9727\n",
            "Epoch 15/15\n",
            "278/278 [==============================] - 10s 34ms/step - loss: 1.4231e-04 - accuracy: 1.0000 - val_loss: 0.0803 - val_accuracy: 0.9795\n",
            "WARNING:tensorflow:From /usr/local/lib/python3.6/dist-packages/tensorflow/python/training/tracking/tracking.py:111: Model.state_updates (from tensorflow.python.keras.engine.training) is deprecated and will be removed in a future version.\n",
            "Instructions for updating:\n",
            "This property should not be used in TensorFlow 2.0, as updates are applied automatically.\n",
            "WARNING:tensorflow:From /usr/local/lib/python3.6/dist-packages/tensorflow/python/training/tracking/tracking.py:111: Layer.updates (from tensorflow.python.keras.engine.base_layer) is deprecated and will be removed in a future version.\n",
            "Instructions for updating:\n",
            "This property should not be used in TensorFlow 2.0, as updates are applied automatically.\n",
            "INFO:tensorflow:Assets written to: CNN_80-20-model3/assets\n"
          ],
          "name": "stdout"
        }
      ]
    },
    {
      "cell_type": "code",
      "metadata": {
        "id": "SpfYrvgQ7OfD",
        "outputId": "94a021f2-e9be-42b5-a6c9-f76fb7e218ec",
        "colab": {
          "base_uri": "https://localhost:8080/",
          "height": 119
        }
      },
      "source": [
        "#model = Sequential()\n",
        "#model.add(base_model)\n",
        "#model.add(GlobalAveragePooling2D())\n",
        "#model.add(Dropout(0.5))\n",
        "#model.add(Dense(1, activation='sigmoid'))\n",
        "#model.summary()\n",
        "#model compilation\n",
        " \n",
        "model.compile(optimizer=Adam(lr=0.001/100), loss='binary_crossentropy', metrics=['accuracy'])\n",
        "model.load_weights('/content/drive/My Drive/EEG_data_80%train_20%test_split/CNN-80-20/CNN_80-20-model.h5')\n",
        "y_pred=model.predict(x_test)\n",
        "pred = np.where(y_pred>0.5,1,0)\n",
        "cm1 = confusion_matrix(y_test,pred)\n",
        "total1=sum(sum(cm1)) \n",
        "print('Confusion Matrix : \\n', cm1)\n",
        "accuracy1=(cm1[0,0]+cm1[1,1])/total1\n",
        "print ('Accuracy : ', accuracy1)\n",
        "sensitivity1 = cm1[0,0]/(cm1[0,0]+cm1[0,1])\n",
        "print('Sensitivity : ', sensitivity1 )\n",
        "specificity1 = cm1[1,1]/(cm1[1,0]+cm1[1,1])\n",
        "print('Specificity : ', specificity1)"
      ],
      "execution_count": null,
      "outputs": [
        {
          "output_type": "stream",
          "text": [
            "Confusion Matrix : \n",
            " [[1089    3]\n",
            " [   0  370]]\n",
            "Accuracy :  0.9979480164158687\n",
            "Sensitivity :  0.9972527472527473\n",
            "Specificity :  1.0\n"
          ],
          "name": "stdout"
        }
      ]
    },
    {
      "cell_type": "code",
      "metadata": {
        "id": "WcVwIaqzF30o",
        "outputId": "fce0f112-905b-480b-d041-68e69ca19d4f",
        "colab": {
          "base_uri": "https://localhost:8080/",
          "height": 573
        }
      },
      "source": [
        "    plt.plot(history.history['accuracy'])\n",
        "    plt.plot(history.history['val_accuracy'])\n",
        "    plt.title('model accuracy')\n",
        "    plt.ylabel('accuracy')\n",
        "    plt.xlabel('epoch')\n",
        "    plt.legend(['x_train', 'y_test'], loc='upper left')\n",
        "    plt.show()\n",
        "    plt.plot(history.history['loss'])\n",
        "    plt.plot(history.history['val_loss'])\n",
        "    plt.title('model loss')\n",
        "    plt.ylabel('loss')\n",
        "    plt.xlabel('epoch')\n",
        "    plt.legend(['x_train', 'y_test'], loc='upper left')\n",
        "    plt.show()"
      ],
      "execution_count": null,
      "outputs": [
        {
          "output_type": "display_data",
          "data": {
            "image/png": "[encoded data removed]",
            "text/plain": [
              "<Figure size 432x288 with 1 Axes>"
            ]
          },
          "metadata": {
            "tags": [],
            "needs_background": "light"
          }
        },
        {
          "output_type": "display_data",
          "data": {
            "image/png": "[encoded data removed]",
            "text/plain": [
              "<Figure size 432x288 with 1 Axes>"
            ]
          },
          "metadata": {
            "tags": [],
            "needs_background": "light"
          }
        }
      ]
    },
    {
      "cell_type": "code",
      "metadata": {
        "id": "aRDGU9UT9OFi",
        "outputId": "efc6a235-f902-44a4-832d-43901a7f93e4",
        "colab": {
          "base_uri": "https://localhost:8080/",
          "height": 129
        }
      },
      "source": [
        "#Cell Number 5\n",
        "\n",
        "#training_all_patients\n",
        " \n",
        "#base path for data, labels, and for saving best weights is give in next line.\n",
        " \n",
        " \n",
        "base_path = '/content/drive/My Drive/numpyfiles_org_Asad_resnet'\n",
        " \n",
        " \n",
        "#accessing the data files which are named as \"x_files\" in next line\n",
        " \n",
        " \n",
        "files_name = [x for x in sorted(os.listdir(os.path.join(base_path, 'x_files'))) if x[-4:] == '.npy']\n",
        " \n",
        "#accessing or creating directory for saving best weights \n",
        " \n",
        "if not os.path.exists(os.path.join(base_path, 'model_10epoches_resnet')):\n",
        "  os.mkdir(os.path.join(base_path, 'model_10epoches_resnet'))\n",
        " \n",
        " \n",
        "#accessing and loading the data files from directory \"x_files\"and labels from directory named as \"y_files\"\n",
        " for i in files_name:\n",
        "  x_train = []\n",
        "  y_train = []\n",
        "  for j in files_name:\n",
        "    if os.path.exists(os.path.join(base_path, 'y_files', i.replace('x', 'y'))) and (not i in j):\n",
        "      x_train.extend(np.load(os.path.join(base_path, 'x_files', j)))\n",
        "      y_train.extend(np.load(os.path.join(base_path, 'y_files', j.replace('x', 'y'))))\n",
        " #converting the loaded data into numpy array   \n",
        "  x_train = np.asarray(x_train)\n",
        "  y_train = np.asarray(y_train)\n",
        "#printing the model number under training\n",
        "  print('\\n\\n\\n Training Model',i)\n",
        "#passing the data to model for training\n",
        "#x_train as training data\n",
        "#y_train as training data labels\n",
        "#\"np.load(os.path.join(base_path, 'x_files', i))\" as validating data\n",
        "#\"np.load(os.path.join(base_path, 'y_files', i))\" as validating data labels\n",
        "#\"os.path.join(base_path, 'model_10_1epoches_resnet',i[:-6]), True\" giving the path and directory where to save best weights\n",
        "  trainModel(x_train, y_train, np.load(os.path.join(base_path, 'x_files', i)), np.load(os.path.join(base_path, 'y_files', i.replace('x', 'y'))), os.path.join(base_path, 'model_10epoches_resnet',i[:-6]), True)\n",
        "\n",
        "\n",
        "\n"
      ],
      "execution_count": null,
      "outputs": [
        {
          "output_type": "error",
          "ename": "IndentationError",
          "evalue": "ignored",
          "traceback": [
            "\u001b[0;36m  File \u001b[0;32m\"<ipython-input-17-2fea79964b6c>\"\u001b[0;36m, line \u001b[0;32m23\u001b[0m\n\u001b[0;31m    for i in files_name:\u001b[0m\n\u001b[0m                        ^\u001b[0m\n\u001b[0;31mIndentationError\u001b[0m\u001b[0;31m:\u001b[0m unindent does not match any outer indentation level\n"
          ]
        }
      ]
    },
    {
      "cell_type": "code",
      "metadata": {
        "id": "hq_nVjjB9RgT",
        "outputId": "7c609c1b-fc5d-4d22-ac44-169d2cd13c24",
        "colab": {
          "base_uri": "https://localhost:8080/",
          "height": 425
        }
      },
      "source": [
        "#Cell Number 6\n",
        "\n",
        "\n",
        "#confusion_matrix_for_single_model\n",
        " \n",
        " \t\n",
        " \n",
        " \n",
        "base_path = '/content/drive/My Drive/numpyfiles_org_Asad_resnet'\n",
        "files_name = [x for x in sorted(os.listdir(os.path.join(base_path, 'x_files'))) if x[-4:] == '.npy']\n",
        "#giving the patient Number to load its data, labels and its saved model \n",
        "patient = 'patient27'\n",
        "x_test = []\n",
        "y_test = []\n",
        "x_test.extend(np.load(os.path.join(base_path, 'x_files', patient+'_x.npy')))\n",
        "y_test.extend(np.load(os.path.join(base_path, 'y_files', patient+'_y.npy')))\n",
        "x_test = np.asarray(x_test)\n",
        "y_test = np.asarray(y_test)\n",
        " \n",
        " \n",
        "model = trainModel(None, None, None, None, 'test', False, weights_path='/content/drive/My Drive/numpyfiles_org_Asad_resnet/model_10epoches_resnet/'+patient +'.h5') \n",
        " \n",
        "# Here we evaluate model its output is loss and accuracy\n",
        " \n",
        "print(model.evaluate(x_test, y_test))\n",
        "pred = model.predict(x_test)\n",
        "pred = np.where(pred>0.5,1,0)\n",
        " \n",
        "#Confusion matrix, Accuracy, sensitivity and specificity\n",
        " \n",
        " \n",
        "cm1 = confusion_matrix(y_test,pred)\n",
        "print('Confusion Matrix : \\n', cm1)\n",
        " \n",
        "total1=sum(sum(cm1))\n",
        " \n",
        "#####from confusion matrix calculate accuracy\n",
        " \n",
        "accuracy1=(cm1[0,0]+cm1[1,1])/total1\n",
        "print ('Accuracy : ', accuracy1)\n",
        " \n",
        "sensitivity1 = cm1[0,0]/(cm1[0,0]+cm1[0,1])\n",
        "print('Sensitivity : ', sensitivity1 )\n",
        " \n",
        "specificity1 = cm1[1,1]/(cm1[1,0]+cm1[1,1])\n",
        "print('Specificity : ', specificity1)\n"
      ],
      "execution_count": null,
      "outputs": [
        {
          "output_type": "stream",
          "text": [
            "Model: \"sequential_1\"\n",
            "_________________________________________________________________\n",
            "Layer (type)                 Output Shape              Param #   \n",
            "=================================================================\n",
            "resnet50 (Functional)        (None, 8, 8, 2048)        23581440  \n",
            "_________________________________________________________________\n",
            "global_average_pooling2d_1 ( (None, 2048)              0         \n",
            "_________________________________________________________________\n",
            "dropout_1 (Dropout)          (None, 2048)              0         \n",
            "_________________________________________________________________\n",
            "dense_1 (Dense)              (None, 1)                 2049      \n",
            "=================================================================\n",
            "Total params: 23,583,489\n",
            "Trainable params: 23,530,369\n",
            "Non-trainable params: 53,120\n",
            "_________________________________________________________________\n",
            "1/1 [==============================] - 0s 2ms/step - loss: 4.8984e-07 - accuracy: 1.0000\n",
            "[4.898438987765985e-07, 1.0]\n",
            "Confusion Matrix : \n",
            " [[ 1  0]\n",
            " [ 0 30]]\n",
            "Accuracy :  1.0\n",
            "Sensitivity :  1.0\n",
            "Specificity :  1.0\n"
          ],
          "name": "stdout"
        }
      ]
    }
  ]
}